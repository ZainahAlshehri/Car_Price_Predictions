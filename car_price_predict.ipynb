{
 "cells": [
  {
   "cell_type": "markdown",
   "id": "842af6cd",
   "metadata": {},
   "source": [
    "# Price Predict for Cars"
   ]
  },
  {
   "cell_type": "markdown",
   "id": "00f6caa1",
   "metadata": {},
   "source": [
    "# Appendix:\n",
    "- Click on the links:\n",
    "* <a href= #Overview> Overview</a>\n",
    "* <a href= #Import> Imports Libraries</a>\n",
    "* <a href= #ReadData> Read Data</a>\n",
    "* <a href= #Data_Cleaning_and_Aggregation > Data Cleaning and Aggregation</a>\n",
    "* <a href= #Exploratory_Data_Analysis> Exploratory Data Analysis </a>\n",
    "* <a href= #Baseline> Baseline Model </a> \n",
    "* <a href= #Dummy > Dummy Variable Experiment </a>\n",
    "* <a href= #coxbox > Cox Box Experiment   </a>\n",
    "* <a href= #Ss > Standard Scaler </a>\n",
    "* <a href= #Lasso > Lasso </a>\n",
    "* <a href= #Ridge > Ridge </a>\n",
    "* <a href= #TLR> Tuning Lasoo And Ridge </a> \n",
    "* <a href= #ylog> ylog </a>\n",
    "* <a href= #evaluation> Evaluation </a>\n",
    "       \n",
    "\n",
    "\n"
   ]
  },
  {
   "cell_type": "markdown",
   "id": "edb4a4d4",
   "metadata": {},
   "source": [
    "# <a name= 'Overview'>Overview </a>"
   ]
  },
  {
   "cell_type": "markdown",
   "id": "cd4c34f8",
   "metadata": {},
   "source": [
    "This project aims to test and validate features which effect the price of the car, based on validating  different kind \n",
    "of  experiments to finalize the best R square score result.\n"
   ]
  },
  {
   "cell_type": "markdown",
   "id": "db2d1827",
   "metadata": {},
   "source": [
    "\n",
    "# <a name= 'Import'>Imports Libraries </a>"
   ]
  },
  {
   "cell_type": "code",
   "execution_count": 2,
   "id": "aebcd430",
   "metadata": {},
   "outputs": [
    {
     "name": "stdout",
     "output_type": "stream",
     "text": [
      "Populating the interactive namespace from numpy and matplotlib\n"
     ]
    },
    {
     "name": "stderr",
     "output_type": "stream",
     "text": [
      "/opt/anaconda3/lib/python3.8/site-packages/IPython/core/magics/pylab.py:159: UserWarning: pylab import has clobbered these variables: ['seed']\n",
      "`%matplotlib` prevents importing * from pylab and numpy\n",
      "  warn(\"pylab import has clobbered these variables: %s\"  % clobbered +\n"
     ]
    }
   ],
   "source": [
    "import seaborn as sns\n",
    "import pandas as pd\n",
    "import numpy as np\n",
    "from sklearn import metrics\n",
    "import matplotlib.pyplot as plt\n",
    "from sklearn.model_selection import train_test_split, cross_val_score, KFold, GridSearchCV\n",
    "from sklearn.linear_model import LinearRegression, Lasso, Ridge , LassoCV ,  RidgeCV,Ridge\n",
    "from sklearn.metrics import r2_score, mean_squared_error, mean_absolute_error\n",
    "from sklearn.preprocessing import PolynomialFeatures , StandardScaler \n",
    "from sklearn.pipeline import make_pipeline\n",
    "from sklearn.metrics import r2_score\n",
    "from sklearn.model_selection import train_test_split\n",
    "import statsmodels.api as sm\n",
    "sns.set()\n",
    "seed =123\n",
    "import warnings\n",
    "import seaborn as sns\n",
    "%pylab inline\n",
    "%matplotlib inline\n",
    "\n",
    "#% config InlineBackend.figure_format = 'svg'"
   ]
  },
  {
   "cell_type": "markdown",
   "id": "6ec8b1a8",
   "metadata": {},
   "source": [
    "# <a name= 'ReadData'>Read Data </a>"
   ]
  },
  {
   "cell_type": "code",
   "execution_count": 3,
   "id": "edf65dea",
   "metadata": {},
   "outputs": [
    {
     "data": {
      "text/html": [
       "<div>\n",
       "<style scoped>\n",
       "    .dataframe tbody tr th:only-of-type {\n",
       "        vertical-align: middle;\n",
       "    }\n",
       "\n",
       "    .dataframe tbody tr th {\n",
       "        vertical-align: top;\n",
       "    }\n",
       "\n",
       "    .dataframe thead th {\n",
       "        text-align: right;\n",
       "    }\n",
       "</style>\n",
       "<table border=\"1\" class=\"dataframe\">\n",
       "  <thead>\n",
       "    <tr style=\"text-align: right;\">\n",
       "      <th></th>\n",
       "      <th>car_ID</th>\n",
       "      <th>symboling</th>\n",
       "      <th>CarName</th>\n",
       "      <th>fueltype</th>\n",
       "      <th>aspiration</th>\n",
       "      <th>doornumber</th>\n",
       "      <th>carbody</th>\n",
       "      <th>drivewheel</th>\n",
       "      <th>enginelocation</th>\n",
       "      <th>wheelbase</th>\n",
       "      <th>...</th>\n",
       "      <th>enginesize</th>\n",
       "      <th>fuelsystem</th>\n",
       "      <th>boreratio</th>\n",
       "      <th>stroke</th>\n",
       "      <th>compressionratio</th>\n",
       "      <th>horsepower</th>\n",
       "      <th>peakrpm</th>\n",
       "      <th>citympg</th>\n",
       "      <th>highwaympg</th>\n",
       "      <th>price</th>\n",
       "    </tr>\n",
       "  </thead>\n",
       "  <tbody>\n",
       "    <tr>\n",
       "      <th>0</th>\n",
       "      <td>1</td>\n",
       "      <td>3</td>\n",
       "      <td>alfa-romero giulia</td>\n",
       "      <td>gas</td>\n",
       "      <td>std</td>\n",
       "      <td>two</td>\n",
       "      <td>convertible</td>\n",
       "      <td>rwd</td>\n",
       "      <td>front</td>\n",
       "      <td>88.6</td>\n",
       "      <td>...</td>\n",
       "      <td>130</td>\n",
       "      <td>mpfi</td>\n",
       "      <td>3.47</td>\n",
       "      <td>2.68</td>\n",
       "      <td>9.0</td>\n",
       "      <td>111</td>\n",
       "      <td>5000</td>\n",
       "      <td>21</td>\n",
       "      <td>27</td>\n",
       "      <td>13495.0</td>\n",
       "    </tr>\n",
       "    <tr>\n",
       "      <th>1</th>\n",
       "      <td>2</td>\n",
       "      <td>3</td>\n",
       "      <td>alfa-romero stelvio</td>\n",
       "      <td>gas</td>\n",
       "      <td>std</td>\n",
       "      <td>two</td>\n",
       "      <td>convertible</td>\n",
       "      <td>rwd</td>\n",
       "      <td>front</td>\n",
       "      <td>88.6</td>\n",
       "      <td>...</td>\n",
       "      <td>130</td>\n",
       "      <td>mpfi</td>\n",
       "      <td>3.47</td>\n",
       "      <td>2.68</td>\n",
       "      <td>9.0</td>\n",
       "      <td>111</td>\n",
       "      <td>5000</td>\n",
       "      <td>21</td>\n",
       "      <td>27</td>\n",
       "      <td>16500.0</td>\n",
       "    </tr>\n",
       "    <tr>\n",
       "      <th>2</th>\n",
       "      <td>3</td>\n",
       "      <td>1</td>\n",
       "      <td>alfa-romero Quadrifoglio</td>\n",
       "      <td>gas</td>\n",
       "      <td>std</td>\n",
       "      <td>two</td>\n",
       "      <td>hatchback</td>\n",
       "      <td>rwd</td>\n",
       "      <td>front</td>\n",
       "      <td>94.5</td>\n",
       "      <td>...</td>\n",
       "      <td>152</td>\n",
       "      <td>mpfi</td>\n",
       "      <td>2.68</td>\n",
       "      <td>3.47</td>\n",
       "      <td>9.0</td>\n",
       "      <td>154</td>\n",
       "      <td>5000</td>\n",
       "      <td>19</td>\n",
       "      <td>26</td>\n",
       "      <td>16500.0</td>\n",
       "    </tr>\n",
       "    <tr>\n",
       "      <th>3</th>\n",
       "      <td>4</td>\n",
       "      <td>2</td>\n",
       "      <td>audi 100 ls</td>\n",
       "      <td>gas</td>\n",
       "      <td>std</td>\n",
       "      <td>four</td>\n",
       "      <td>sedan</td>\n",
       "      <td>fwd</td>\n",
       "      <td>front</td>\n",
       "      <td>99.8</td>\n",
       "      <td>...</td>\n",
       "      <td>109</td>\n",
       "      <td>mpfi</td>\n",
       "      <td>3.19</td>\n",
       "      <td>3.40</td>\n",
       "      <td>10.0</td>\n",
       "      <td>102</td>\n",
       "      <td>5500</td>\n",
       "      <td>24</td>\n",
       "      <td>30</td>\n",
       "      <td>13950.0</td>\n",
       "    </tr>\n",
       "    <tr>\n",
       "      <th>4</th>\n",
       "      <td>5</td>\n",
       "      <td>2</td>\n",
       "      <td>audi 100ls</td>\n",
       "      <td>gas</td>\n",
       "      <td>std</td>\n",
       "      <td>four</td>\n",
       "      <td>sedan</td>\n",
       "      <td>4wd</td>\n",
       "      <td>front</td>\n",
       "      <td>99.4</td>\n",
       "      <td>...</td>\n",
       "      <td>136</td>\n",
       "      <td>mpfi</td>\n",
       "      <td>3.19</td>\n",
       "      <td>3.40</td>\n",
       "      <td>8.0</td>\n",
       "      <td>115</td>\n",
       "      <td>5500</td>\n",
       "      <td>18</td>\n",
       "      <td>22</td>\n",
       "      <td>17450.0</td>\n",
       "    </tr>\n",
       "    <tr>\n",
       "      <th>...</th>\n",
       "      <td>...</td>\n",
       "      <td>...</td>\n",
       "      <td>...</td>\n",
       "      <td>...</td>\n",
       "      <td>...</td>\n",
       "      <td>...</td>\n",
       "      <td>...</td>\n",
       "      <td>...</td>\n",
       "      <td>...</td>\n",
       "      <td>...</td>\n",
       "      <td>...</td>\n",
       "      <td>...</td>\n",
       "      <td>...</td>\n",
       "      <td>...</td>\n",
       "      <td>...</td>\n",
       "      <td>...</td>\n",
       "      <td>...</td>\n",
       "      <td>...</td>\n",
       "      <td>...</td>\n",
       "      <td>...</td>\n",
       "      <td>...</td>\n",
       "    </tr>\n",
       "    <tr>\n",
       "      <th>200</th>\n",
       "      <td>201</td>\n",
       "      <td>-1</td>\n",
       "      <td>volvo 145e (sw)</td>\n",
       "      <td>gas</td>\n",
       "      <td>std</td>\n",
       "      <td>four</td>\n",
       "      <td>sedan</td>\n",
       "      <td>rwd</td>\n",
       "      <td>front</td>\n",
       "      <td>109.1</td>\n",
       "      <td>...</td>\n",
       "      <td>141</td>\n",
       "      <td>mpfi</td>\n",
       "      <td>3.78</td>\n",
       "      <td>3.15</td>\n",
       "      <td>9.5</td>\n",
       "      <td>114</td>\n",
       "      <td>5400</td>\n",
       "      <td>23</td>\n",
       "      <td>28</td>\n",
       "      <td>16845.0</td>\n",
       "    </tr>\n",
       "    <tr>\n",
       "      <th>201</th>\n",
       "      <td>202</td>\n",
       "      <td>-1</td>\n",
       "      <td>volvo 144ea</td>\n",
       "      <td>gas</td>\n",
       "      <td>turbo</td>\n",
       "      <td>four</td>\n",
       "      <td>sedan</td>\n",
       "      <td>rwd</td>\n",
       "      <td>front</td>\n",
       "      <td>109.1</td>\n",
       "      <td>...</td>\n",
       "      <td>141</td>\n",
       "      <td>mpfi</td>\n",
       "      <td>3.78</td>\n",
       "      <td>3.15</td>\n",
       "      <td>8.7</td>\n",
       "      <td>160</td>\n",
       "      <td>5300</td>\n",
       "      <td>19</td>\n",
       "      <td>25</td>\n",
       "      <td>19045.0</td>\n",
       "    </tr>\n",
       "    <tr>\n",
       "      <th>202</th>\n",
       "      <td>203</td>\n",
       "      <td>-1</td>\n",
       "      <td>volvo 244dl</td>\n",
       "      <td>gas</td>\n",
       "      <td>std</td>\n",
       "      <td>four</td>\n",
       "      <td>sedan</td>\n",
       "      <td>rwd</td>\n",
       "      <td>front</td>\n",
       "      <td>109.1</td>\n",
       "      <td>...</td>\n",
       "      <td>173</td>\n",
       "      <td>mpfi</td>\n",
       "      <td>3.58</td>\n",
       "      <td>2.87</td>\n",
       "      <td>8.8</td>\n",
       "      <td>134</td>\n",
       "      <td>5500</td>\n",
       "      <td>18</td>\n",
       "      <td>23</td>\n",
       "      <td>21485.0</td>\n",
       "    </tr>\n",
       "    <tr>\n",
       "      <th>203</th>\n",
       "      <td>204</td>\n",
       "      <td>-1</td>\n",
       "      <td>volvo 246</td>\n",
       "      <td>diesel</td>\n",
       "      <td>turbo</td>\n",
       "      <td>four</td>\n",
       "      <td>sedan</td>\n",
       "      <td>rwd</td>\n",
       "      <td>front</td>\n",
       "      <td>109.1</td>\n",
       "      <td>...</td>\n",
       "      <td>145</td>\n",
       "      <td>idi</td>\n",
       "      <td>3.01</td>\n",
       "      <td>3.40</td>\n",
       "      <td>23.0</td>\n",
       "      <td>106</td>\n",
       "      <td>4800</td>\n",
       "      <td>26</td>\n",
       "      <td>27</td>\n",
       "      <td>22470.0</td>\n",
       "    </tr>\n",
       "    <tr>\n",
       "      <th>204</th>\n",
       "      <td>205</td>\n",
       "      <td>-1</td>\n",
       "      <td>volvo 264gl</td>\n",
       "      <td>gas</td>\n",
       "      <td>turbo</td>\n",
       "      <td>four</td>\n",
       "      <td>sedan</td>\n",
       "      <td>rwd</td>\n",
       "      <td>front</td>\n",
       "      <td>109.1</td>\n",
       "      <td>...</td>\n",
       "      <td>141</td>\n",
       "      <td>mpfi</td>\n",
       "      <td>3.78</td>\n",
       "      <td>3.15</td>\n",
       "      <td>9.5</td>\n",
       "      <td>114</td>\n",
       "      <td>5400</td>\n",
       "      <td>19</td>\n",
       "      <td>25</td>\n",
       "      <td>22625.0</td>\n",
       "    </tr>\n",
       "  </tbody>\n",
       "</table>\n",
       "<p>205 rows × 26 columns</p>\n",
       "</div>"
      ],
      "text/plain": [
       "     car_ID  symboling                   CarName fueltype aspiration  \\\n",
       "0         1          3        alfa-romero giulia      gas        std   \n",
       "1         2          3       alfa-romero stelvio      gas        std   \n",
       "2         3          1  alfa-romero Quadrifoglio      gas        std   \n",
       "3         4          2               audi 100 ls      gas        std   \n",
       "4         5          2                audi 100ls      gas        std   \n",
       "..      ...        ...                       ...      ...        ...   \n",
       "200     201         -1           volvo 145e (sw)      gas        std   \n",
       "201     202         -1               volvo 144ea      gas      turbo   \n",
       "202     203         -1               volvo 244dl      gas        std   \n",
       "203     204         -1                 volvo 246   diesel      turbo   \n",
       "204     205         -1               volvo 264gl      gas      turbo   \n",
       "\n",
       "    doornumber      carbody drivewheel enginelocation  wheelbase  ...  \\\n",
       "0          two  convertible        rwd          front       88.6  ...   \n",
       "1          two  convertible        rwd          front       88.6  ...   \n",
       "2          two    hatchback        rwd          front       94.5  ...   \n",
       "3         four        sedan        fwd          front       99.8  ...   \n",
       "4         four        sedan        4wd          front       99.4  ...   \n",
       "..         ...          ...        ...            ...        ...  ...   \n",
       "200       four        sedan        rwd          front      109.1  ...   \n",
       "201       four        sedan        rwd          front      109.1  ...   \n",
       "202       four        sedan        rwd          front      109.1  ...   \n",
       "203       four        sedan        rwd          front      109.1  ...   \n",
       "204       four        sedan        rwd          front      109.1  ...   \n",
       "\n",
       "     enginesize  fuelsystem  boreratio  stroke compressionratio horsepower  \\\n",
       "0           130        mpfi       3.47    2.68              9.0        111   \n",
       "1           130        mpfi       3.47    2.68              9.0        111   \n",
       "2           152        mpfi       2.68    3.47              9.0        154   \n",
       "3           109        mpfi       3.19    3.40             10.0        102   \n",
       "4           136        mpfi       3.19    3.40              8.0        115   \n",
       "..          ...         ...        ...     ...              ...        ...   \n",
       "200         141        mpfi       3.78    3.15              9.5        114   \n",
       "201         141        mpfi       3.78    3.15              8.7        160   \n",
       "202         173        mpfi       3.58    2.87              8.8        134   \n",
       "203         145         idi       3.01    3.40             23.0        106   \n",
       "204         141        mpfi       3.78    3.15              9.5        114   \n",
       "\n",
       "     peakrpm citympg  highwaympg    price  \n",
       "0       5000      21          27  13495.0  \n",
       "1       5000      21          27  16500.0  \n",
       "2       5000      19          26  16500.0  \n",
       "3       5500      24          30  13950.0  \n",
       "4       5500      18          22  17450.0  \n",
       "..       ...     ...         ...      ...  \n",
       "200     5400      23          28  16845.0  \n",
       "201     5300      19          25  19045.0  \n",
       "202     5500      18          23  21485.0  \n",
       "203     4800      26          27  22470.0  \n",
       "204     5400      19          25  22625.0  \n",
       "\n",
       "[205 rows x 26 columns]"
      ]
     },
     "execution_count": 3,
     "metadata": {},
     "output_type": "execute_result"
    }
   ],
   "source": [
    "mydata= pd.read_csv('/Users/ahad/Downloads/CarPrice_Assignment.csv')\n",
    "mydata"
   ]
  },
  {
   "cell_type": "code",
   "execution_count": 4,
   "id": "c0976429",
   "metadata": {},
   "outputs": [
    {
     "name": "stdout",
     "output_type": "stream",
     "text": [
      "<class 'pandas.core.frame.DataFrame'>\n",
      "RangeIndex: 205 entries, 0 to 204\n",
      "Data columns (total 26 columns):\n",
      " #   Column            Non-Null Count  Dtype  \n",
      "---  ------            --------------  -----  \n",
      " 0   car_ID            205 non-null    int64  \n",
      " 1   symboling         205 non-null    int64  \n",
      " 2   CarName           205 non-null    object \n",
      " 3   fueltype          205 non-null    object \n",
      " 4   aspiration        205 non-null    object \n",
      " 5   doornumber        205 non-null    object \n",
      " 6   carbody           205 non-null    object \n",
      " 7   drivewheel        205 non-null    object \n",
      " 8   enginelocation    205 non-null    object \n",
      " 9   wheelbase         205 non-null    float64\n",
      " 10  carlength         205 non-null    float64\n",
      " 11  carwidth          205 non-null    float64\n",
      " 12  carheight         205 non-null    float64\n",
      " 13  curbweight        205 non-null    int64  \n",
      " 14  enginetype        205 non-null    object \n",
      " 15  cylindernumber    205 non-null    object \n",
      " 16  enginesize        205 non-null    int64  \n",
      " 17  fuelsystem        205 non-null    object \n",
      " 18  boreratio         205 non-null    float64\n",
      " 19  stroke            205 non-null    float64\n",
      " 20  compressionratio  205 non-null    float64\n",
      " 21  horsepower        205 non-null    int64  \n",
      " 22  peakrpm           205 non-null    int64  \n",
      " 23  citympg           205 non-null    int64  \n",
      " 24  highwaympg        205 non-null    int64  \n",
      " 25  price             205 non-null    float64\n",
      "dtypes: float64(8), int64(8), object(10)\n",
      "memory usage: 41.8+ KB\n"
     ]
    }
   ],
   "source": [
    "mydata.info()"
   ]
  },
  {
   "cell_type": "markdown",
   "id": "531da363",
   "metadata": {},
   "source": [
    "# <a name= 'Data_Cleaning_and_Aggregation'>Data Cleaning and Aggregation</a>"
   ]
  },
  {
   "cell_type": "code",
   "execution_count": null,
   "id": "e14f0eb2",
   "metadata": {},
   "outputs": [],
   "source": [
    "mydata.isna().sum()"
   ]
  },
  {
   "cell_type": "code",
   "execution_count": null,
   "id": "17a7adbb",
   "metadata": {},
   "outputs": [],
   "source": [
    "mydata[\"highway-L/100KM\"] = 235 / mydata[\"highwaympg\"]\n",
    "mydata.head()"
   ]
  },
  {
   "cell_type": "code",
   "execution_count": null,
   "id": "10def629",
   "metadata": {},
   "outputs": [],
   "source": [
    "mydata[\"cityLKM\"] = 235 / mydata[\"citympg\"]\n",
    "mydata.head()"
   ]
  },
  {
   "cell_type": "code",
   "execution_count": null,
   "id": "7e0f9fe4",
   "metadata": {},
   "outputs": [],
   "source": [
    "mydata=mydata.drop(columns=['car_ID'])\n",
    "mydata=mydata.drop(columns=['highwaympg'])\n",
    "mydata=mydata.drop(columns=['citympg'])\n",
    "mydata=mydata.drop(columns=['CarName'])"
   ]
  },
  {
   "cell_type": "markdown",
   "id": "0a2d2ce1",
   "metadata": {},
   "source": [
    "# <a name= 'Exploratory_Data_Analysis'>Exploratory Data Analysis</a>"
   ]
  },
  {
   "cell_type": "code",
   "execution_count": null,
   "id": "69d23fe7",
   "metadata": {},
   "outputs": [],
   "source": [
    "cormatrix=mydata.corr ()\n",
    "cormatrix"
   ]
  },
  {
   "cell_type": "code",
   "execution_count": null,
   "id": "bef90371",
   "metadata": {},
   "outputs": [],
   "source": [
    "cormatrix *= np.tri(*cormatrix.values.shape, k=-1).T  \n",
    "cormatrix"
   ]
  },
  {
   "cell_type": "code",
   "execution_count": null,
   "id": "90f2b5bd",
   "metadata": {},
   "outputs": [],
   "source": [
    "cormatrix = cormatrix.stack () \n",
    "cormatrix"
   ]
  },
  {
   "cell_type": "code",
   "execution_count": null,
   "id": "5f7b8593",
   "metadata": {},
   "outputs": [],
   "source": [
    "cormatrix = cormatrix.reindex(cormatrix.abs().sort_values(ascending=False).index).reset_index()\n",
    "cormatrix.columns = [\"FirstVariable\", \"SecondVariable\", \"Correlation\"]\n",
    "cormatrix.head(10)"
   ]
  },
  {
   "cell_type": "code",
   "execution_count": null,
   "id": "b2a278ef",
   "metadata": {},
   "outputs": [],
   "source": [
    "sns.lmplot('price', 'horsepower', mydata, \n",
    "           hue = 'fueltype', col = 'fueltype',  row = 'doornumber', \n",
    "           palette = \"dark:salmon_r\",\n",
    "           fit_reg = True);\n",
    "#sns.color_palette(\"rocket\")\n",
    "plt.savefig('price.png',transparent=True);"
   ]
  },
  {
   "cell_type": "code",
   "execution_count": null,
   "id": "d067bdaa",
   "metadata": {},
   "outputs": [],
   "source": [
    "sns.scatterplot(mydata['enginesize'], mydata['price']).set(title=' Enginesize VS Price Relationship');\n"
   ]
  },
  {
   "cell_type": "code",
   "execution_count": null,
   "id": "c60c66e7",
   "metadata": {},
   "outputs": [],
   "source": [
    "smaller_df = mydata.select_dtypes(include=np.number).copy()"
   ]
  },
  {
   "cell_type": "code",
   "execution_count": null,
   "id": "668b81da",
   "metadata": {},
   "outputs": [],
   "source": [
    "smaller_df"
   ]
  },
  {
   "cell_type": "code",
   "execution_count": null,
   "id": "d70e0a04",
   "metadata": {},
   "outputs": [],
   "source": [
    "smaller_df.corr()['price'].plot(kind='barh', fontsize=12);\n",
    "plt.title('correlation between features and price', fontsize=10);"
   ]
  },
  {
   "cell_type": "code",
   "execution_count": null,
   "id": "d5ea62cf",
   "metadata": {},
   "outputs": [],
   "source": [
    "corr_all = smaller_df.corr()\n",
    "mask = np.zeros_like(corr_all,dtype=np.bool)\n",
    "mask[np.triu_indices_from(mask)] = True\n",
    " \n",
    "f,ax = plt.subplots(figsize=(11,9))\n",
    "sns.heatmap(corr_all,mask=mask,square=True,linewidths=.5,ax=ax,cmap=\"BuPu\")\n",
    "plt.show()"
   ]
  },
  {
   "cell_type": "code",
   "execution_count": null,
   "id": "ab498040",
   "metadata": {},
   "outputs": [],
   "source": [
    "sns.pairplot (smaller_df, palette = 'plasma');"
   ]
  },
  {
   "cell_type": "markdown",
   "id": "ab6bb29d",
   "metadata": {},
   "source": [
    "# <a href= 'Spliting'> Splitting The Data </a>"
   ]
  },
  {
   "cell_type": "code",
   "execution_count": null,
   "id": "9db2c366",
   "metadata": {},
   "outputs": [],
   "source": [
    "def MAE(actuals, preds): #mean absolute error\n",
    "    return np.mean(np.abs(actuals-preds))"
   ]
  },
  {
   "cell_type": "code",
   "execution_count": null,
   "id": "dc28d595",
   "metadata": {},
   "outputs": [],
   "source": [
    "def diagnostic_plot(x, y):\n",
    "    plt.figure(figsize=(15,5))\n",
    "    \n",
    "    rgr = LinearRegression()\n",
    "    rgr.fit(x,y)\n",
    "    pred = rgr.predict(x)\n",
    "\n",
    "    plt.subplot(1, 2, 1)\n",
    "    plt.scatter(pred,y,alpha=0.1)\n",
    "    plt.plot(y, y, color='red',linewidth=1,)\n",
    "    plt.title(\"Regression fit\")\n",
    "    plt.xlabel(\"Predicted y\")\n",
    "    plt.ylabel(\"y\")\n",
    "    \n",
    "    plt.subplot(1, 2, 2)\n",
    "    res = y - pred\n",
    "    plt.scatter(pred, res,alpha=0.1)\n",
    "    plt.title(\"Residual plot\")\n",
    "    plt.xlabel(\"prediction\")\n",
    "    plt.ylabel(\"residuals\")\n",
    "    \n",
    "    print(res)    \n",
    "    \n",
    "    \"\"\"\"plt.subplot(1, 3, 3)\n",
    "    #Generates a probability plot of sample data against the quantiles of a \n",
    "    # specified theoretical distribution \n",
    "    stats.probplot(res, dist=\"norm\", plot=plt,)\n",
    "    plt.title(\"Normal Q-Q plot\")\"\"\""
   ]
  },
  {
   "cell_type": "markdown",
   "id": "590cbb8d",
   "metadata": {},
   "source": [
    "# <a name= 'Baseline'> Baseline Model </a>"
   ]
  },
  {
   "cell_type": "code",
   "execution_count": null,
   "id": "68167793",
   "metadata": {},
   "outputs": [],
   "source": [
    "X = smaller_df.drop(\"price\", axis=1)\n",
    "y = smaller_df[[\"price\"]]"
   ]
  },
  {
   "cell_type": "code",
   "execution_count": null,
   "id": "e07423d0",
   "metadata": {},
   "outputs": [],
   "source": [
    "from sklearn.model_selection import train_test_split\n",
    "\n",
    "X, X_test, y, y_test = train_test_split(X, y, test_size = 0.20, random_state=30 )\n",
    "X_train, X_val, y_train, y_val = train_test_split(X, y, test_size = 0.25, random_state=30 )"
   ]
  },
  {
   "cell_type": "code",
   "execution_count": null,
   "id": "d3a4bdd5",
   "metadata": {},
   "outputs": [],
   "source": [
    "lm = LinearRegression()\n",
    "lm.fit(X_train,y_train)\n",
    "lm.score(X_train,y_train)"
   ]
  },
  {
   "cell_type": "code",
   "execution_count": null,
   "id": "40128233",
   "metadata": {},
   "outputs": [],
   "source": [
    "X_val_numeric = X_val.select_dtypes(include=np.number)\n",
    "lm.score(X_val_numeric,y_val)"
   ]
  },
  {
   "cell_type": "code",
   "execution_count": null,
   "id": "6ac894c5",
   "metadata": {},
   "outputs": [],
   "source": [
    "lm.score(X_test,y_test)"
   ]
  },
  {
   "cell_type": "code",
   "execution_count": null,
   "id": "2793b73d",
   "metadata": {},
   "outputs": [],
   "source": [
    "sns.set(style='darkgrid')\n",
    "diagnostic_plot(X_test, y_test)"
   ]
  },
  {
   "cell_type": "markdown",
   "id": "9d2c6bad",
   "metadata": {},
   "source": [
    "# <a name= 'Dummy'> Dummy Variable    </a>"
   ]
  },
  {
   "cell_type": "code",
   "execution_count": null,
   "id": "57add337",
   "metadata": {},
   "outputs": [],
   "source": [
    "df_dummies = pd.get_dummies(mydata, drop_first=True)\n",
    "df_dummies"
   ]
  },
  {
   "cell_type": "code",
   "execution_count": null,
   "id": "f0b69597",
   "metadata": {},
   "outputs": [],
   "source": [
    "X = df_dummies.drop(\"price\", axis=1)\n",
    "y = df_dummies[[\"price\"]]"
   ]
  },
  {
   "cell_type": "code",
   "execution_count": null,
   "id": "f5330c38",
   "metadata": {},
   "outputs": [],
   "source": [
    "X,X_test,y,y_test=train_test_split(X,y,test_size=0.2, random_state= 33)\n",
    "X_train,X_val,y_train,y_val=train_test_split(X,y,test_size=0.2, random_state= 15)"
   ]
  },
  {
   "cell_type": "code",
   "execution_count": null,
   "id": "f5395d7b",
   "metadata": {},
   "outputs": [],
   "source": [
    "type(df_dummies)"
   ]
  },
  {
   "cell_type": "code",
   "execution_count": null,
   "id": "b0757aa2",
   "metadata": {},
   "outputs": [],
   "source": [
    "lr_dumm = LinearRegression()\n",
    "lr_dumm.fit(X_train,y_train)\n",
    "\n",
    "\n",
    "predicted_lr_dumm = lr_dumm.predict(X_test)\n",
    "print(\"dummy\")\n",
    "print('train Score: ',lr_dumm.score(X_train,y_train))\n",
    "print('validation Score: ',lr_dumm.score(X_val,y_val))\n",
    "print('test Score: ',lr_dumm.score(X_test,y_test))"
   ]
  },
  {
   "cell_type": "markdown",
   "id": "5c9ee642",
   "metadata": {},
   "source": [
    "# <a name= 'coxbox'> Cox Box </a>"
   ]
  },
  {
   "cell_type": "code",
   "execution_count": null,
   "id": "4a3e8cdd",
   "metadata": {},
   "outputs": [],
   "source": [
    "X = df_dummies.drop(\"price\", axis=1)\n",
    "y = df_dummies[[\"price\"]]"
   ]
  },
  {
   "cell_type": "code",
   "execution_count": null,
   "id": "66dda60b",
   "metadata": {},
   "outputs": [],
   "source": [
    "from sklearn.preprocessing import power_transform\n",
    "y_cox = power_transform(y, method='box-cox')"
   ]
  },
  {
   "cell_type": "code",
   "execution_count": null,
   "id": "a5777240",
   "metadata": {},
   "outputs": [],
   "source": [
    "X,X_test,y_cox,y_test_cox=train_test_split(X,y_cox,test_size=0.2, random_state= 50)\n",
    "X_train,X_val,y_train,y_val=train_test_split(X,y_cox,test_size=0.25, random_state= 10)"
   ]
  },
  {
   "cell_type": "code",
   "execution_count": null,
   "id": "27f8e4ff",
   "metadata": {},
   "outputs": [],
   "source": [
    "lr_cox = LinearRegression()\n",
    "lr_cox.fit(X_train,y_train)\n",
    "\n",
    "\n",
    "predicted_lr_cox = lr_cox.predict(X_test)\n",
    "print(\"Cox Exper\")\n",
    "print('train Score: ',lr_cox.score(X_train,y_train))\n",
    "print('validation Score: ',lr_cox.score(X_val,y_val))\n",
    "print('test Score: ',lr_cox.score(X_test,y_test_cox))\n",
    "print(\"Mean absolute Error\",MAE(np.exp(y_test_cox),np.exp(predicted_lr_cox)))"
   ]
  },
  {
   "cell_type": "code",
   "execution_count": null,
   "id": "40f68505",
   "metadata": {},
   "outputs": [],
   "source": [
    "sns.set(style='darkgrid')\n",
    "diagnostic_plot(X_test,y_test_cox)"
   ]
  },
  {
   "cell_type": "markdown",
   "id": "fe64468c",
   "metadata": {},
   "source": [
    "# <a name= 'Ss'> Standard Scaler </a>"
   ]
  },
  {
   "cell_type": "code",
   "execution_count": null,
   "id": "a8bbb4a5",
   "metadata": {},
   "outputs": [],
   "source": [
    "X = df_dummies.drop(\"price\", axis=1)\n",
    "y = df_dummies[[\"price\"]]"
   ]
  },
  {
   "cell_type": "code",
   "execution_count": null,
   "id": "057bd798",
   "metadata": {},
   "outputs": [],
   "source": [
    "from sklearn.preprocessing import StandardScaler\n",
    "std_scaler = StandardScaler()\n",
    "X_std = std_scaler.fit_transform(X)\n",
    "y_cox = power_transform(y, method='box-cox')"
   ]
  },
  {
   "cell_type": "code",
   "execution_count": null,
   "id": "8463950c",
   "metadata": {},
   "outputs": [],
   "source": [
    "X_std,X_std_test,y_cox,y_cox_test=train_test_split(X_std,y_cox,test_size=0.2, random_state= 50)\n",
    "X_std_train,X_std_val,y_cox_train,y_cox_val=train_test_split(X_std,y_cox,test_size=0.25, random_state= 10)"
   ]
  },
  {
   "cell_type": "code",
   "execution_count": null,
   "id": "7501c625",
   "metadata": {},
   "outputs": [],
   "source": [
    "lr_std = LinearRegression()\n",
    "lr_std.fit(X_std_train,y_cox_train)\n",
    "\n",
    "\n",
    "predicted_lr_std = lr_std.predict(X_std_test)\n",
    "\n",
    "print('train Score: ',lr_std.score(X_std_train,y_cox_train))\n",
    "print('validation Score: ',lr_std.score(X_std_val,y_cox_val))\n",
    "print('test Score: ',lr_std.score(X_std_test,y_cox_test))\n",
    "#print(\"Mean absolute Error\",MAE(np.exp(y_test),np.exp(predicted_lr_dumm)))"
   ]
  },
  {
   "cell_type": "code",
   "execution_count": null,
   "id": "ff67be86",
   "metadata": {},
   "outputs": [],
   "source": [
    "sns.set(style='darkgrid')\n",
    "diagnostic_plot(X_test, y_test)"
   ]
  },
  {
   "cell_type": "markdown",
   "id": "1f210321",
   "metadata": {},
   "source": [
    "# <a name= 'Lasso'> Lasso </a>"
   ]
  },
  {
   "cell_type": "code",
   "execution_count": null,
   "id": "3a5d4b66",
   "metadata": {},
   "outputs": [],
   "source": [
    "X_train_val, X_test, y_train_val, y_test = train_test_split(X, y, test_size=0.2,random_state=42)\n",
    "X_train, X_val, y_train, y_val = train_test_split(X_train_val, y_train_val, test_size=.25, random_state=43)"
   ]
  },
  {
   "cell_type": "code",
   "execution_count": null,
   "id": "6a9bc654",
   "metadata": {},
   "outputs": [],
   "source": [
    "std = StandardScaler()\n",
    "std.fit(X_train.values)"
   ]
  },
  {
   "cell_type": "code",
   "execution_count": null,
   "id": "86cde81d",
   "metadata": {},
   "outputs": [],
   "source": [
    "X_tr = std.transform(X_train.values)\n",
    "X_va = std.transform(X_val.values)"
   ]
  },
  {
   "cell_type": "code",
   "execution_count": null,
   "id": "952f47cd",
   "metadata": {},
   "outputs": [],
   "source": [
    "lasso_model = Lasso(alpha = 300)\n",
    "lasso_model.fit(X_tr,y_train)"
   ]
  },
  {
   "cell_type": "code",
   "execution_count": null,
   "id": "293de289",
   "metadata": {},
   "outputs": [],
   "source": [
    "list(zip(X_train.columns, lasso_model.coef_))"
   ]
  },
  {
   "cell_type": "code",
   "execution_count": null,
   "id": "323da616",
   "metadata": {},
   "outputs": [],
   "source": [
    "lasso_model.score(X_tr,y_train)"
   ]
  },
  {
   "cell_type": "code",
   "execution_count": null,
   "id": "58628b9f",
   "metadata": {},
   "outputs": [],
   "source": [
    "lasso_model.score(X_va,y_val)"
   ]
  },
  {
   "cell_type": "markdown",
   "id": "f31074e9",
   "metadata": {},
   "source": [
    "# <a name= 'Ridge'> Ridge </a>"
   ]
  },
  {
   "cell_type": "code",
   "execution_count": null,
   "id": "2f07e23c",
   "metadata": {},
   "outputs": [],
   "source": [
    "lr_model_ridge = Ridge(alpha =  1000000)\n",
    "lr_model_ridge.fit(X_tr,y_train)"
   ]
  },
  {
   "cell_type": "code",
   "execution_count": null,
   "id": "bacbdae2",
   "metadata": {},
   "outputs": [],
   "source": [
    "list(zip(X_train.columns, lr_model_ridge.coef_))"
   ]
  },
  {
   "cell_type": "code",
   "execution_count": null,
   "id": "45ef347e",
   "metadata": {},
   "outputs": [],
   "source": [
    "lr_model_ridge = Ridge(alpha =  100)\n",
    "lr_model_ridge.fit(X_tr,y_train)"
   ]
  },
  {
   "cell_type": "code",
   "execution_count": null,
   "id": "85dc698a",
   "metadata": {},
   "outputs": [],
   "source": [
    "list(zip(X_train.columns, lr_model_ridge.coef_))"
   ]
  },
  {
   "cell_type": "code",
   "execution_count": null,
   "id": "3d3b3edf",
   "metadata": {},
   "outputs": [],
   "source": [
    "lr_model_ridge.score(X_tr,y_train)"
   ]
  },
  {
   "cell_type": "code",
   "execution_count": null,
   "id": "dae20a3a",
   "metadata": {},
   "outputs": [],
   "source": [
    "lr_model_ridge.score(X_va,y_val)"
   ]
  },
  {
   "cell_type": "markdown",
   "id": "01f56d8d",
   "metadata": {},
   "source": [
    "\n",
    "# <a name= 'TLR'> Tuning Lasoo And Ridge </a>"
   ]
  },
  {
   "cell_type": "code",
   "execution_count": null,
   "id": "9bd91b6a",
   "metadata": {},
   "outputs": [],
   "source": [
    "lasso_params = {'alpha':[0.05 , 0.09 , 0.08 , 0.07 , 0.010 , 0.7 , 0.10 , 0.9 ,7.98, 0.8,0.058 , 0.2 ,0.0069, 0.20 , 0.66 , 0.19, 0.99 , 0.97 , 0.099 , 0,39 ,30.59, 0.49 , 0,59 ,10, 0.69 , 0.79,1.90, 0.89 , 0.99 , 0.95 , 0.76 , 0.60 , 0.66 , 0.098]}\n",
    "ridge_params = {'alpha':[200, 230, 250,265, 270, 275, 290, 300, 500 , 1000 , 8000 , 10000]}"
   ]
  },
  {
   "cell_type": "code",
   "execution_count": null,
   "id": "f65cb9d4",
   "metadata": {},
   "outputs": [],
   "source": [
    "lasso_grid = GridSearchCV(Lasso(), param_grid=lasso_params).fit(X_tr, y_train)"
   ]
  },
  {
   "cell_type": "code",
   "execution_count": null,
   "id": "44dfa970",
   "metadata": {},
   "outputs": [],
   "source": [
    "lasso_grid.best_estimator_"
   ]
  },
  {
   "cell_type": "code",
   "execution_count": null,
   "id": "ebdc1976",
   "metadata": {},
   "outputs": [],
   "source": [
    "lasso_grid.best_score_"
   ]
  },
  {
   "cell_type": "code",
   "execution_count": null,
   "id": "0f0c55c5",
   "metadata": {},
   "outputs": [],
   "source": [
    "sns.set(style='darkgrid')\n",
    "diagnostic_plot(X_tr, y_train)"
   ]
  },
  {
   "cell_type": "code",
   "execution_count": null,
   "id": "0e48e165",
   "metadata": {},
   "outputs": [],
   "source": [
    "from sklearn.linear_model import LassoCV\n",
    "# Create 5 folds\n",
    "kfold = KFold(n_splits=4, shuffle=True, random_state=13)\n",
    "\n",
    "# Create model\n",
    "model_lcv = LassoCV(cv=kfold)\n",
    "\n",
    "# Fit model\n",
    "model_lcv.fit(X_train, y_train)\n",
    "predictions = model_lcv.predict(X_train)\n",
    "print(\"Train:\", r2_score(y_train, predictions))\n",
    "\n",
    "# Evaluate\n",
    "predictions = model_lcv.predict(X_val)\n",
    "print(\"Validation:\", r2_score(y_val, predictions))\n",
    "\n",
    "print(\"Alpha:\", model_lcv.alpha_)"
   ]
  },
  {
   "cell_type": "markdown",
   "id": "b5662b08",
   "metadata": {},
   "source": [
    "# <a name= 'ylog'> ylog </a>"
   ]
  },
  {
   "cell_type": "code",
   "execution_count": null,
   "id": "17bd7c97",
   "metadata": {},
   "outputs": [],
   "source": [
    "X = df_dummies.drop(\"price\", axis=1)\n",
    "y = df_dummies[[\"price\"]]"
   ]
  },
  {
   "cell_type": "code",
   "execution_count": null,
   "id": "3e5f06c6",
   "metadata": {},
   "outputs": [],
   "source": [
    "y_log=np.log(y)"
   ]
  },
  {
   "cell_type": "code",
   "execution_count": null,
   "id": "451cc856",
   "metadata": {},
   "outputs": [],
   "source": [
    "X,X_test,y_log,y_test_log=train_test_split(X,y_log,test_size=0.2, random_state= 50)\n",
    "X_train,X_val,y_log_train,y_log_val=train_test_split(X,y_log,test_size=0.25, random_state= 10)"
   ]
  },
  {
   "cell_type": "code",
   "execution_count": null,
   "id": "58c3b9f9",
   "metadata": {},
   "outputs": [],
   "source": [
    "\n",
    "# lm = LinearRegression()\n",
    "# X_train, X_test, y_train, y_test = train_test_split(X, y, random_state=23)\n",
    "# lm.fit(X_train , y_train)\n",
    "# lm.score(X_train , y_train)"
   ]
  },
  {
   "cell_type": "code",
   "execution_count": null,
   "id": "ec9d37de",
   "metadata": {},
   "outputs": [],
   "source": [
    "lr_log = LinearRegression()\n",
    "lr_log.fit(X_train,y_log_train)\n",
    "\n",
    "\n",
    "predicted_lr_log = lr_log.predict(X_test)\n",
    "print(\"Cox Exper\")\n",
    "print('train Score: ',lr_log.score(X_train,y_log_train))\n",
    "print('validation Score: ',lr_log.score(X_val,y_log_val))\n",
    "print('test Score: ',lr_log.score(X_test,y_test_log))\n",
    "##print(\"Mean absolute Error\",MAE(np.exp(y_test_cox),np.exp(predicted_lr_log)))"
   ]
  },
  {
   "cell_type": "markdown",
   "id": "7a7decb3",
   "metadata": {},
   "source": [
    "# <a name='evaluation'> Evaluation </a>"
   ]
  },
  {
   "cell_type": "code",
   "execution_count": null,
   "id": "bd82e809",
   "metadata": {},
   "outputs": [],
   "source": [
    "lm=LinearRegression()\n",
    "lm1= lm.fit(X_tr,y_train)\n",
    "y_pred_val=lm1.predict(X_va)\n",
    "y_pred_train=lm1.predict(X_tr)\n",
    "y_pred_test=lm1.predict(X_test)\n",
    "print(\"Score of training set = \",lm1.score(X_tr,y_train))"
   ]
  },
  {
   "cell_type": "code",
   "execution_count": null,
   "id": "6721b96d",
   "metadata": {},
   "outputs": [],
   "source": [
    "def SSE(actuals, preds):\n",
    "    return np.sum((actuals - preds)**2)\n",
    "\n",
    "SSE(y_pred_train,y_train)\n"
   ]
  },
  {
   "cell_type": "code",
   "execution_count": null,
   "id": "fca2d8a6",
   "metadata": {},
   "outputs": [],
   "source": [
    "def RMSE(actuals, preds): #root mean squared error\n",
    "    return np.sqrt(np.mean((actuals - preds)**2))\n",
    "RMSE(y_pred_train,y_train)"
   ]
  },
  {
   "cell_type": "code",
   "execution_count": null,
   "id": "78da75d3",
   "metadata": {},
   "outputs": [],
   "source": [
    "def MAE(actuals, preds): #mean absolute error\n",
    "    return np.mean(np.abs(actuals-preds))\n",
    "\n",
    "MAE(y_pred_train,y_train)"
   ]
  },
  {
   "cell_type": "code",
   "execution_count": null,
   "id": "36ab2d86",
   "metadata": {},
   "outputs": [],
   "source": [
    "def SST(y):\n",
    "    return np.sum((y - np.mean(y))**2)"
   ]
  },
  {
   "cell_type": "code",
   "execution_count": null,
   "id": "8e83995c",
   "metadata": {},
   "outputs": [],
   "source": [
    "def R2(actuals, preds):\n",
    "    return 1 - SSE(actuals, preds) / SST(actuals)\n",
    "\n",
    "R2(y_pred_train,y_train)"
   ]
  },
  {
   "cell_type": "code",
   "execution_count": null,
   "id": "47ff03e9",
   "metadata": {},
   "outputs": [],
   "source": [
    "def SSE(actuals, preds):\n",
    "    return np.sum((actuals - preds)**2)\n",
    "SSE(y_pred_val,y_val)"
   ]
  },
  {
   "cell_type": "code",
   "execution_count": null,
   "id": "b53546f3",
   "metadata": {},
   "outputs": [],
   "source": [
    "def RMSE(actuals, preds): #root mean squared error\n",
    "    return np.sqrt(np.mean((actuals - preds)**2))\n",
    "RMSE(y_pred_val,y_val)"
   ]
  },
  {
   "cell_type": "code",
   "execution_count": null,
   "id": "cc59ea53",
   "metadata": {},
   "outputs": [],
   "source": [
    "def MAE(actuals, preds): #mean absolute error\n",
    "    return np.mean(np.abs(actuals-preds))\n",
    "MAE(y_pred_val,y_val)"
   ]
  },
  {
   "cell_type": "code",
   "execution_count": null,
   "id": "31be878f",
   "metadata": {},
   "outputs": [],
   "source": [
    "def SST(y):\n",
    "    return np.sum((y - np.mean(y))**2)\n",
    "def R2(actuals, preds):\n",
    "    return 1 - SSE(actuals, preds) / SST(actuals)\n",
    "R2(y_pred_val,y_val)"
   ]
  }
 ],
 "metadata": {
  "kernelspec": {
   "display_name": "Python 3",
   "language": "python",
   "name": "python3"
  },
  "language_info": {
   "codemirror_mode": {
    "name": "ipython",
    "version": 3
   },
   "file_extension": ".py",
   "mimetype": "text/x-python",
   "name": "python",
   "nbconvert_exporter": "python",
   "pygments_lexer": "ipython3",
   "version": "3.8.8"
  }
 },
 "nbformat": 4,
 "nbformat_minor": 5
}
